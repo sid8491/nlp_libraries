{
 "cells": [
  {
   "cell_type": "code",
   "execution_count": 1,
   "metadata": {},
   "outputs": [],
   "source": [
    "from textblob import TextBlob\n",
    "text = TextBlob(\"\"\"Hello Mr. Smith, how are you doing today? The weather is great, and city is awesome.\n",
    "The sky is pinkish-blue. You shouldn't eat cardboard\"\"\")"
   ]
  },
  {
   "cell_type": "code",
   "execution_count": 2,
   "metadata": {},
   "outputs": [
    {
     "data": {
      "text/plain": [
       "[Sentence(\"Hello Mr. Smith, how are you doing today?\"),\n",
       " Sentence(\"The weather is great, and city is awesome.\"),\n",
       " Sentence(\"The sky is pinkish-blue.\"),\n",
       " Sentence(\"You shouldn't eat cardboard\")]"
      ]
     },
     "execution_count": 2,
     "metadata": {},
     "output_type": "execute_result"
    }
   ],
   "source": [
    "text.sentences"
   ]
  },
  {
   "cell_type": "code",
   "execution_count": 3,
   "metadata": {},
   "outputs": [
    {
     "data": {
      "text/plain": [
       "textblob.blob.TextBlob"
      ]
     },
     "execution_count": 3,
     "metadata": {},
     "output_type": "execute_result"
    }
   ],
   "source": [
    "words_list = set()\n",
    "type(text)"
   ]
  },
  {
   "cell_type": "code",
   "execution_count": 4,
   "metadata": {},
   "outputs": [
    {
     "data": {
      "text/plain": [
       "WordList(['Hello', 'Mr', 'Smith', 'how', 'are', 'you', 'doing', 'today', 'The', 'weather', 'is', 'great', 'and', 'city', 'is', 'awesome', 'The', 'sky', 'is', 'pinkish-blue', 'You', 'should', \"n't\", 'eat', 'cardboard'])"
      ]
     },
     "execution_count": 4,
     "metadata": {},
     "output_type": "execute_result"
    }
   ],
   "source": [
    "text.words"
   ]
  },
  {
   "cell_type": "code",
   "execution_count": 5,
   "metadata": {},
   "outputs": [
    {
     "data": {
      "text/plain": [
       "[('Hello', 'NNP'),\n",
       " ('Mr.', 'NNP'),\n",
       " ('Smith', 'NNP'),\n",
       " ('how', 'WRB'),\n",
       " ('are', 'VBP'),\n",
       " ('you', 'PRP'),\n",
       " ('doing', 'VBG'),\n",
       " ('today', 'NN'),\n",
       " ('The', 'DT'),\n",
       " ('weather', 'NN'),\n",
       " ('is', 'VBZ'),\n",
       " ('great', 'JJ'),\n",
       " ('and', 'CC'),\n",
       " ('city', 'NN'),\n",
       " ('is', 'VBZ'),\n",
       " ('awesome', 'JJ'),\n",
       " ('The', 'DT'),\n",
       " ('sky', 'NN'),\n",
       " ('is', 'VBZ'),\n",
       " ('pinkish-blue', 'JJ'),\n",
       " ('You', 'PRP'),\n",
       " ('should', 'MD'),\n",
       " (\"n't\", 'RB'),\n",
       " ('eat', 'VB'),\n",
       " ('cardboard', 'NN')]"
      ]
     },
     "execution_count": 5,
     "metadata": {},
     "output_type": "execute_result"
    }
   ],
   "source": [
    "text.tags"
   ]
  },
  {
   "cell_type": "code",
   "execution_count": 6,
   "metadata": {},
   "outputs": [
    {
     "data": {
      "text/plain": [
       "WordList(['hello mr. smith'])"
      ]
     },
     "execution_count": 6,
     "metadata": {},
     "output_type": "execute_result"
    }
   ],
   "source": [
    "text.noun_phrases"
   ]
  },
  {
   "cell_type": "code",
   "execution_count": 7,
   "metadata": {},
   "outputs": [
    {
     "data": {
      "text/plain": [
       "Sentiment(polarity=0.9, subjectivity=0.875)"
      ]
     },
     "execution_count": 7,
     "metadata": {},
     "output_type": "execute_result"
    }
   ],
   "source": [
    "text.sentiment"
   ]
  },
  {
   "cell_type": "code",
   "execution_count": 8,
   "metadata": {},
   "outputs": [
    {
     "name": "stdout",
     "output_type": "stream",
     "text": [
      "Singularize : \n",
      "['Hello', 'Mr', 'Smith', 'how', 'are', 'you', 'doing', 'today', 'The', 'weather', 'is', 'great', 'and', 'city', 'is', 'awesome', 'The', 'sky', 'is', 'pinkish-blue', 'You', 'should', \"n't\", 'eat', 'cardboard']\n",
      "Pluralize : \n",
      "['Helloes', 'Mrs', 'Smiths', 'hows', 'ares', 'you', 'doings', 'todays', 'Thes', 'weathers', 'iss', 'greats', 'ands', 'cities', 'iss', 'awesomes', 'Thes', 'skies', 'iss', 'pinkish-blues', 'Yous', 'shoulds', \"n'ts\", 'eats', 'cardboards']\n"
     ]
    }
   ],
   "source": [
    "print('Singularize : ')\n",
    "print([word.singularize() for word in text.words])\n",
    "\n",
    "print('Pluralize : ')\n",
    "print([word.pluralize() for word in text.words])"
   ]
  },
  {
   "cell_type": "markdown",
   "metadata": {},
   "source": [
    "### Lemmatize"
   ]
  },
  {
   "cell_type": "code",
   "execution_count": 9,
   "metadata": {},
   "outputs": [
    {
     "name": "stdout",
     "output_type": "stream",
     "text": [
      "['Hello', 'Mr', 'Smith', 'how', 'are', 'you', 'doing', 'today', 'The', 'weather', 'is', 'great', 'and', 'city', 'is', 'awesome', 'The', 'sky', 'is', 'pinkish-blue', 'You', 'should', \"n't\", 'eat', 'cardboard']\n"
     ]
    }
   ],
   "source": [
    "from textblob import Word\n",
    "    \n",
    "print([Word(word).lemmatize() for word in text.words])"
   ]
  },
  {
   "cell_type": "code",
   "execution_count": 10,
   "metadata": {},
   "outputs": [
    {
     "name": "stdout",
     "output_type": "stream",
     "text": [
      "['hello', 'Mr', 'smith', 'how', 'are', 'you', 'do', 'today', 'the', 'weather', 'is', 'great', 'and', 'citi', 'is', 'awesom', 'the', 'sky', 'is', 'pinkish-blu', 'you', 'should', \"n't\", 'eat', 'cardboard']\n"
     ]
    }
   ],
   "source": [
    "print([Word(word).stem() for word in text.words])"
   ]
  },
  {
   "cell_type": "code",
   "execution_count": 11,
   "metadata": {},
   "outputs": [
    {
     "name": "stdout",
     "output_type": "stream",
     "text": [
      "running\n",
      "run\n"
     ]
    }
   ],
   "source": [
    "# wrong lemma\n",
    "print(TextBlob(\"running\").words[0].lemmatize())\n",
    "\n",
    "# correct if we explicitly tells it is verb\n",
    "print(TextBlob(\"running\").words[0].lemmatize('v'))"
   ]
  },
  {
   "cell_type": "markdown",
   "metadata": {},
   "source": [
    "### Spell Correction"
   ]
  },
  {
   "cell_type": "code",
   "execution_count": 12,
   "metadata": {},
   "outputs": [
    {
     "data": {
      "text/plain": [
       "TextBlob(\"I have good spelling!\")"
      ]
     },
     "execution_count": 12,
     "metadata": {},
     "output_type": "execute_result"
    }
   ],
   "source": [
    "b = TextBlob(\"I havv good speling!\")\n",
    "b.correct()"
   ]
  },
  {
   "cell_type": "code",
   "execution_count": 13,
   "metadata": {},
   "outputs": [
    {
     "name": "stdout",
     "output_type": "stream",
     "text": [
      "[('have', 1.0)]\n",
      "Spell check score of words: \n",
      " Hello : [('Hello', 1.0)]\n",
      " Mr : [('Or', 0.9176954732510288), ('Mr', 0.06172839506172839), ('R', 0.009087791495198902), ('Dr', 0.00823045267489712), ('Fr', 0.0008573388203017832), ('Er', 0.0008573388203017832), ('Gr', 0.0006858710562414266), ('Jr', 0.0003429355281207133), ('Tr', 0.00017146776406035664), ('Br', 0.00017146776406035664), ('Ar', 0.00017146776406035664)]\n",
      " Smith : [('Smith', 1.0)]\n",
      " how : [('how', 1.0)]\n",
      " are : [('are', 1.0)]\n",
      " you : [('you', 1.0)]\n",
      " doing : [('doing', 1.0)]\n",
      " today : [('today', 1.0)]\n",
      " The : [('The', 0.8303848428566982), ('He', 0.1286717785363728), ('She', 0.04094337860692904)]\n",
      " weather : [('weather', 1.0)]\n",
      " is : [('is', 1.0)]\n",
      " great : [('great', 1.0)]\n",
      " and : [('and', 1.0)]\n",
      " city : [('city', 1.0)]\n",
      " is : [('is', 1.0)]\n",
      " awesome : [('awesome', 0.0)]\n",
      " The : [('The', 0.8303848428566982), ('He', 0.1286717785363728), ('She', 0.04094337860692904)]\n",
      " sky : [('sky', 1.0)]\n",
      " is : [('is', 1.0)]\n",
      " pinkish-blue : [('pinkish-blue', 0.0)]\n",
      " You : [('You', 0.9991114270481607), ('Ou', 0.0005331437711036076), ('Rou', 0.00035542918073573843)]\n",
      " should : [('should', 1.0)]\n",
      " n't : [('not', 0.9942977190876351), ('net', 0.004201680672268907), ('nut', 0.0015006002400960385)]\n",
      " eat : [('eat', 1.0)]\n",
      " cardboard : [('cardboard', 1.0)]\n"
     ]
    }
   ],
   "source": [
    "# TextBlob(\"I have good spelling!\")\n",
    "from textblob import Word\n",
    "w = Word('havv')\n",
    "print(w.spellcheck())\n",
    "\n",
    "print('Spell check score of words: ')\n",
    "# print([Word(word).spellcheck() for word in text.words])\n",
    "for word in text.words:\n",
    "    print(' {} : {}'.format(word, Word(word).spellcheck()))"
   ]
  },
  {
   "cell_type": "markdown",
   "metadata": {},
   "source": [
    "### Parsing"
   ]
  },
  {
   "cell_type": "code",
   "execution_count": 14,
   "metadata": {},
   "outputs": [
    {
     "data": {
      "text/plain": [
       "\"Hello/UH/O/O Mr./NNP/B-NP/O Smith/NNP/I-NP/O ,/,/O/O how/WRB/B-ADVP/O are/VBP/B-VP/O you/PRP/B-NP/O doing/VBG/B-VP/O today/NN/B-NP/O ?/./O/O\\nThe/DT/B-NP/O weather/NN/I-NP/O is/VBZ/B-VP/O great/JJ/B-ADJP/O ,/,/O/O and/CC/O/O city/NN/B-NP/O is/VBZ/B-VP/O awesome/JJ/B-ADJP/O ././O/O\\nThe/DT/B-NP/O sky/NN/I-NP/O is/VBZ/B-VP/O pinkish-blue/JJ/B-ADJP/O ././O/O\\nYou/PRP/B-NP/O should/MD/B-VP/O n/NN/B-NP/O '/POS/O/O t/NN/B-NP/O eat/VB/B-VP/O cardboard/NN/B-NP/O\""
      ]
     },
     "execution_count": 14,
     "metadata": {},
     "output_type": "execute_result"
    }
   ],
   "source": [
    "text.parse()"
   ]
  },
  {
   "cell_type": "markdown",
   "metadata": {},
   "source": [
    "### Language based functions"
   ]
  },
  {
   "cell_type": "code",
   "execution_count": 15,
   "metadata": {},
   "outputs": [
    {
     "data": {
      "text/plain": [
       "TextBlob(\"हेलो मिस्टर स्मिथ, आज आप कैसे हैं? मौसम बहुत अच्छा है, और शहर बहुत बढ़िया है।\n",
       "आकाश गुलाबी-नीला है। आपको कार्डबोर्ड नहीं खाना चाहिए\")"
      ]
     },
     "execution_count": 15,
     "metadata": {},
     "output_type": "execute_result"
    }
   ],
   "source": [
    "text.translate(to='hi')"
   ]
  },
  {
   "cell_type": "code",
   "execution_count": 16,
   "metadata": {},
   "outputs": [
    {
     "data": {
      "text/plain": [
       "'en'"
      ]
     },
     "execution_count": 16,
     "metadata": {},
     "output_type": "execute_result"
    }
   ],
   "source": [
    "text.detect_language()"
   ]
  },
  {
   "cell_type": "code",
   "execution_count": 17,
   "metadata": {},
   "outputs": [
    {
     "name": "stdout",
     "output_type": "stream",
     "text": [
      "hi\n",
      "The weather is very good\n"
     ]
    }
   ],
   "source": [
    "hindi = TextBlob(\"मौसम बहुत अच्छा है\")\n",
    "print(hindi.detect_language())\n",
    "print(hindi.translate(to='en'))"
   ]
  },
  {
   "cell_type": "markdown",
   "metadata": {},
   "source": [
    "### N-grams"
   ]
  },
  {
   "cell_type": "code",
   "execution_count": 18,
   "metadata": {},
   "outputs": [
    {
     "data": {
      "text/plain": [
       "[WordList(['I', 'went', 'to', 'the']),\n",
       " WordList(['went', 'to', 'the', 'pet']),\n",
       " WordList(['to', 'the', 'pet', 'store']),\n",
       " WordList(['the', 'pet', 'store', 'to']),\n",
       " WordList(['pet', 'store', 'to', 'buy']),\n",
       " WordList(['store', 'to', 'buy', 'a']),\n",
       " WordList(['to', 'buy', 'a', 'fish'])]"
      ]
     },
     "execution_count": 18,
     "metadata": {},
     "output_type": "execute_result"
    }
   ],
   "source": [
    "doc = TextBlob(\"I went to the pet store to buy a fish.\")\n",
    "doc.ngrams(4)"
   ]
  },
  {
   "cell_type": "code",
   "execution_count": 19,
   "metadata": {},
   "outputs": [
    {
     "name": "stdout",
     "output_type": "stream",
     "text": [
      "[WordList(['went', 'to'])]\n"
     ]
    }
   ],
   "source": [
    "print([ngram for ngram in doc.ngrams(2) if ngram[0] == 'went'])"
   ]
  },
  {
   "cell_type": "code",
   "execution_count": null,
   "metadata": {},
   "outputs": [],
   "source": []
  },
  {
   "cell_type": "code",
   "execution_count": null,
   "metadata": {},
   "outputs": [],
   "source": []
  }
 ],
 "metadata": {
  "kernelspec": {
   "display_name": "Python 3",
   "language": "python",
   "name": "python3"
  },
  "language_info": {
   "codemirror_mode": {
    "name": "ipython",
    "version": 3
   },
   "file_extension": ".py",
   "mimetype": "text/x-python",
   "name": "python",
   "nbconvert_exporter": "python",
   "pygments_lexer": "ipython3",
   "version": "3.5.2"
  }
 },
 "nbformat": 4,
 "nbformat_minor": 2
}
