{
 "cells": [
  {
   "cell_type": "code",
   "execution_count": 1,
   "metadata": {},
   "outputs": [],
   "source": [
    "text=\"\"\"Hello Mr. Smith, how are you doing today? The weather is great, and city is awesome.\n",
    "The sky is pinkish-blue. You shouldn't eat cardboard\"\"\""
   ]
  },
  {
   "cell_type": "markdown",
   "metadata": {},
   "source": [
    "### Sentence Tokenizer"
   ]
  },
  {
   "cell_type": "code",
   "execution_count": 2,
   "metadata": {},
   "outputs": [
    {
     "name": "stdout",
     "output_type": "stream",
     "text": [
      "['Hello Mr. Smith, how are you doing today?', 'The weather is great, and city is awesome.', 'The sky is pinkish-blue.', \"You shouldn't eat cardboard\"]\n",
      "4\n"
     ]
    }
   ],
   "source": [
    "import nltk\n",
    "from nltk.tokenize import sent_tokenize\n",
    "tokenized_text=sent_tokenize(text)\n",
    "print(tokenized_text)\n",
    "print(len(tokenized_text))"
   ]
  },
  {
   "cell_type": "markdown",
   "metadata": {},
   "source": [
    "### Word Tokenizer"
   ]
  },
  {
   "cell_type": "code",
   "execution_count": 3,
   "metadata": {},
   "outputs": [
    {
     "name": "stdout",
     "output_type": "stream",
     "text": [
      "['Hello', 'Mr.', 'Smith', ',', 'how', 'are', 'you', 'doing', 'today', '?', 'The', 'weather', 'is', 'great', ',', 'and', 'city', 'is', 'awesome', '.', 'The', 'sky', 'is', 'pinkish-blue', '.', 'You', 'should', \"n't\", 'eat', 'cardboard']\n"
     ]
    }
   ],
   "source": [
    "from nltk.tokenize import word_tokenize\n",
    "tokenized_word=word_tokenize(text)\n",
    "print(tokenized_word)"
   ]
  },
  {
   "cell_type": "markdown",
   "metadata": {},
   "source": [
    "### Frequency"
   ]
  },
  {
   "cell_type": "code",
   "execution_count": 4,
   "metadata": {},
   "outputs": [
    {
     "name": "stdout",
     "output_type": "stream",
     "text": [
      "<FreqDist with 25 samples and 30 outcomes>\n"
     ]
    },
    {
     "data": {
      "text/plain": [
       "[('is', 3), ('.', 2), ('The', 2), (',', 2), ('Smith', 1)]"
      ]
     },
     "execution_count": 4,
     "metadata": {},
     "output_type": "execute_result"
    }
   ],
   "source": [
    "from nltk.probability import FreqDist\n",
    "fdist = FreqDist(tokenized_word)\n",
    "print(fdist)\n",
    "fdist.most_common(5)"
   ]
  },
  {
   "cell_type": "code",
   "execution_count": 5,
   "metadata": {},
   "outputs": [
    {
     "data": {
      "text/plain": [
       "<Figure size 640x480 with 1 Axes>"
      ]
     },
     "metadata": {},
     "output_type": "display_data"
    }
   ],
   "source": [
    "# Frequency Distribution Plot\n",
    "import matplotlib.pyplot as plt\n",
    "fdist.plot(30,cumulative=False)\n",
    "plt.show()"
   ]
  },
  {
   "cell_type": "markdown",
   "metadata": {},
   "source": [
    "### Stop Words"
   ]
  },
  {
   "cell_type": "code",
   "execution_count": 6,
   "metadata": {},
   "outputs": [
    {
     "name": "stdout",
     "output_type": "stream",
     "text": [
      "{'other', 'more', 'into', 'whom', 'i', 'aren', 'any', 'by', \"couldn't\", 'was', 'itself', 'over', 'further', 'didn', \"won't\", 'ma', 'with', \"aren't\", 'our', 'out', 'the', \"isn't\", 'as', 'shan', 'did', 'just', \"shan't\", 't', 'under', \"didn't\", 'having', 'no', 'does', 'in', 'those', 're', 'again', 'such', 'ourselves', 'he', 'myself', 'd', 'nor', 'their', 'same', 'are', 'were', 'will', 'm', 'them', 'ain', 'before', 'wasn', \"you've\", 'been', 'me', 'most', 'because', 'be', 'had', 's', \"wouldn't\", 'her', 'above', 'himself', 'wouldn', 'hadn', 'against', 'o', 'how', \"haven't\", 'him', 'and', 'too', 'his', \"doesn't\", \"it's\", 'below', 'to', 'we', 'through', 'an', \"don't\", \"mustn't\", \"wasn't\", 'then', 'when', 'here', 'being', \"you're\", \"she's\", 'than', \"hadn't\", 'hers', 'off', 'mustn', 'during', 'between', 'it', 'couldn', 'for', 'which', 'where', \"you'll\", 'a', 'am', 'at', 'all', 'y', 'she', 'on', 'why', 'mightn', 'each', 've', 'ours', 'of', 'do', 'if', \"that'll\", 'very', 'now', 'is', 'that', 'yours', 'what', 'your', 'can', 'once', 'they', 'don', 'have', 'so', 'some', \"needn't\", 'isn', 'should', \"shouldn't\", 'hasn', 'about', 'herself', 'my', 'until', 'after', 'yourself', 'needn', 'from', 'own', 'has', \"should've\", \"you'd\", 'or', 'won', 'haven', 'this', \"hasn't\", 'yourselves', 'these', 'doing', 'you', 'its', 'theirs', 'themselves', 'up', 'both', 'there', 'but', 'who', 'down', 'only', 'weren', 'few', 'll', 'doesn', 'not', \"mightn't\", \"weren't\", 'shouldn', 'while'}\n",
      "--------------------------------------------------------------\n",
      "Total stop words : 179\n"
     ]
    }
   ],
   "source": [
    "from nltk.corpus import stopwords\n",
    "stop_words=set(stopwords.words(\"english\"))\n",
    "print(stop_words)\n",
    "print('--------------------------------------------------------------')\n",
    "print(\"Total stop words : {}\".format(len(stop_words)))"
   ]
  },
  {
   "cell_type": "markdown",
   "metadata": {},
   "source": [
    "### Removing Stopwords"
   ]
  },
  {
   "cell_type": "code",
   "execution_count": 7,
   "metadata": {},
   "outputs": [
    {
     "name": "stdout",
     "output_type": "stream",
     "text": [
      "Tokenized Sentence: ['Hello', 'Mr.', 'Smith', ',', 'how', 'are', 'you', 'doing', 'today', '?', 'The', 'weather', 'is', 'great', ',', 'and', 'city', 'is', 'awesome', '.', 'The', 'sky', 'is', 'pinkish-blue', '.', 'You', 'should', \"n't\", 'eat', 'cardboard']\n",
      "Filterd Sentence: ['Hello', 'Mr.', 'Smith', ',', 'today', '?', 'The', 'weather', 'great', ',', 'city', 'awesome', '.', 'The', 'sky', 'pinkish-blue', '.', 'You', \"n't\", 'eat', 'cardboard']\n"
     ]
    }
   ],
   "source": [
    "filtered_sent=[]\n",
    "for w in tokenized_word:\n",
    "    if w not in stop_words:\n",
    "        filtered_sent.append(w)\n",
    "print(\"Tokenized Sentence:\",tokenized_word)\n",
    "print(\"Filterd Sentence:\",filtered_sent)"
   ]
  },
  {
   "cell_type": "markdown",
   "metadata": {},
   "source": [
    "### Stemming"
   ]
  },
  {
   "cell_type": "code",
   "execution_count": 8,
   "metadata": {},
   "outputs": [
    {
     "name": "stdout",
     "output_type": "stream",
     "text": [
      "Filtered Sentence: ['Hello', 'Mr.', 'Smith', ',', 'today', '?', 'The', 'weather', 'great', ',', 'city', 'awesome', '.', 'The', 'sky', 'pinkish-blue', '.', 'You', \"n't\", 'eat', 'cardboard']\n",
      "Stemmed Sentence: ['hello', 'mr.', 'smith', ',', 'today', '?', 'the', 'weather', 'great', ',', 'citi', 'awesom', '.', 'the', 'sky', 'pinkish-blu', '.', 'you', \"n't\", 'eat', 'cardboard']\n"
     ]
    }
   ],
   "source": [
    "from nltk.stem import PorterStemmer\n",
    "from nltk.tokenize import sent_tokenize, word_tokenize\n",
    "\n",
    "ps = PorterStemmer()\n",
    "\n",
    "stemmed_words=[]\n",
    "for w in filtered_sent:\n",
    "    stemmed_words.append(ps.stem(w))\n",
    "\n",
    "print(\"Filtered Sentence:\",filtered_sent)\n",
    "print(\"Stemmed Sentence:\",stemmed_words)"
   ]
  },
  {
   "cell_type": "markdown",
   "metadata": {},
   "source": [
    "### Lemmatization"
   ]
  },
  {
   "cell_type": "code",
   "execution_count": 9,
   "metadata": {},
   "outputs": [
    {
     "name": "stdout",
     "output_type": "stream",
     "text": [
      "Lemmatized Word: fly\n",
      "Stemmed Word: fli\n"
     ]
    }
   ],
   "source": [
    "from nltk.stem.wordnet import WordNetLemmatizer\n",
    "lem = WordNetLemmatizer()\n",
    "\n",
    "from nltk.stem.porter import PorterStemmer\n",
    "stem = PorterStemmer()\n",
    "\n",
    "word = \"flying\"\n",
    "print(\"Lemmatized Word:\",lem.lemmatize(word,\"v\"))\n",
    "print(\"Stemmed Word:\",stem.stem(word))"
   ]
  },
  {
   "cell_type": "markdown",
   "metadata": {},
   "source": [
    "### POS Tagging"
   ]
  },
  {
   "cell_type": "code",
   "execution_count": 10,
   "metadata": {},
   "outputs": [
    {
     "name": "stdout",
     "output_type": "stream",
     "text": [
      "[('Hello', 'NNP'), ('Mr.', 'NNP'), ('Smith', 'NNP'), (',', ','), ('how', 'WRB'), ('are', 'VBP'), ('you', 'PRP'), ('doing', 'VBG'), ('today', 'NN'), ('?', '.'), ('The', 'DT'), ('weather', 'NN'), ('is', 'VBZ'), ('great', 'JJ'), (',', ','), ('and', 'CC'), ('city', 'NN'), ('is', 'VBZ'), ('awesome', 'JJ'), ('.', '.'), ('The', 'DT'), ('sky', 'NN'), ('is', 'VBZ'), ('pinkish-blue', 'JJ'), ('.', '.'), ('You', 'PRP'), ('should', 'MD'), (\"n't\", 'RB'), ('eat', 'VB'), ('cardboard', 'NN')]\n"
     ]
    }
   ],
   "source": [
    "pos = nltk.pos_tag(tokenized_word)\n",
    "print(pos)"
   ]
  },
  {
   "cell_type": "code",
   "execution_count": 11,
   "metadata": {},
   "outputs": [
    {
     "name": "stdout",
     "output_type": "stream",
     "text": [
      "Hello PERSON\n",
      "Mr. Smith PERSON\n"
     ]
    }
   ],
   "source": [
    "for chunk in nltk.ne_chunk(pos):\n",
    "    if hasattr(chunk, 'label'):\n",
    "        label = chunk.label()\n",
    "        name = ' '.join(c[0] for c in chunk.leaves())\n",
    "        print(name, label)"
   ]
  },
  {
   "cell_type": "code",
   "execution_count": 12,
   "metadata": {},
   "outputs": [
    {
     "name": "stdout",
     "output_type": "stream",
     "text": [
      "[('Hello', 'NNP', 'B-PERSON'), ('Mr.', 'NNP', 'B-PERSON'), ('Smith', 'NNP', 'I-PERSON'), (',', ',', 'O'), ('how', 'WRB', 'O'), ('are', 'VBP', 'O'), ('you', 'PRP', 'O'), ('doing', 'VBG', 'O'), ('today', 'NN', 'O'), ('?', '.', 'O'), ('The', 'DT', 'O'), ('weather', 'NN', 'O'), ('is', 'VBZ', 'O'), ('great', 'JJ', 'O'), (',', ',', 'O'), ('and', 'CC', 'O'), ('city', 'NN', 'O'), ('is', 'VBZ', 'O'), ('awesome', 'JJ', 'O'), ('.', '.', 'O'), ('The', 'DT', 'O'), ('sky', 'NN', 'O'), ('is', 'VBZ', 'O'), ('pinkish-blue', 'JJ', 'O'), ('.', '.', 'O'), ('You', 'PRP', 'O'), ('should', 'MD', 'O'), (\"n't\", 'RB', 'O'), ('eat', 'VB', 'O'), ('cardboard', 'NN', 'O')]\n"
     ]
    }
   ],
   "source": [
    "from nltk.chunk import conlltags2tree, tree2conlltags\n",
    "ne_tree = nltk.ne_chunk(pos)\n",
    "iob_tagged = tree2conlltags(ne_tree)\n",
    "print(iob_tagged)"
   ]
  },
  {
   "cell_type": "code",
   "execution_count": 13,
   "metadata": {},
   "outputs": [
    {
     "name": "stdout",
     "output_type": "stream",
     "text": [
      "(S\n",
      "  (PERSON Hello/NNP)\n",
      "  (PERSON Mr./NNP Smith/NNP)\n",
      "  ,/,\n",
      "  how/WRB\n",
      "  are/VBP\n",
      "  you/PRP\n",
      "  doing/VBG\n",
      "  today/NN\n",
      "  ?/.\n",
      "  The/DT\n",
      "  weather/NN\n",
      "  is/VBZ\n",
      "  great/JJ\n",
      "  ,/,\n",
      "  and/CC\n",
      "  city/NN\n",
      "  is/VBZ\n",
      "  awesome/JJ\n",
      "  ./.\n",
      "  The/DT\n",
      "  sky/NN\n",
      "  is/VBZ\n",
      "  pinkish-blue/JJ\n",
      "  ./.\n",
      "  You/PRP\n",
      "  should/MD\n",
      "  n't/RB\n",
      "  eat/VB\n",
      "  cardboard/NN)\n"
     ]
    }
   ],
   "source": [
    "ne_tree = conlltags2tree(iob_tagged)\n",
    "print(ne_tree)"
   ]
  },
  {
   "cell_type": "code",
   "execution_count": null,
   "metadata": {},
   "outputs": [],
   "source": []
  }
 ],
 "metadata": {
  "kernelspec": {
   "display_name": "Python 3",
   "language": "python",
   "name": "python3"
  },
  "language_info": {
   "codemirror_mode": {
    "name": "ipython",
    "version": 3
   },
   "file_extension": ".py",
   "mimetype": "text/x-python",
   "name": "python",
   "nbconvert_exporter": "python",
   "pygments_lexer": "ipython3",
   "version": "3.5.2"
  }
 },
 "nbformat": 4,
 "nbformat_minor": 2
}
